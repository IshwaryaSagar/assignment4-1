{
 "cells": [
  {
   "cell_type": "code",
   "execution_count": 1,
   "id": "eac587e2",
   "metadata": {},
   "outputs": [],
   "source": [
    "### python program to create lambda function that adds 25 to \n",
    "#given number passed in an argument......"
   ]
  },
  {
   "cell_type": "code",
   "execution_count": 2,
   "id": "0cf7552e",
   "metadata": {},
   "outputs": [
    {
     "name": "stdout",
     "output_type": "stream",
     "text": [
      "Enter a number::: 10\n",
      "final output:  [35]\n"
     ]
    }
   ],
   "source": [
    "l=[int(input(\"Enter a number::: \"))]\n",
    "output = list(map(lambda x:x+25, l))\n",
    "print('final output: ',output)"
   ]
  },
  {
   "cell_type": "code",
   "execution_count": null,
   "id": "72b24b49",
   "metadata": {},
   "outputs": [],
   "source": []
  }
 ],
 "metadata": {
  "kernelspec": {
   "display_name": "Python 3 (ipykernel)",
   "language": "python",
   "name": "python3"
  },
  "language_info": {
   "codemirror_mode": {
    "name": "ipython",
    "version": 3
   },
   "file_extension": ".py",
   "mimetype": "text/x-python",
   "name": "python",
   "nbconvert_exporter": "python",
   "pygments_lexer": "ipython3",
   "version": "3.9.7"
  }
 },
 "nbformat": 4,
 "nbformat_minor": 5
}
